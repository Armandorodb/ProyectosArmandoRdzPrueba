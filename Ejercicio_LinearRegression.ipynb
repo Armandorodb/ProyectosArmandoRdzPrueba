{
 "cells": [
  {
   "cell_type": "markdown",
   "metadata": {},
   "source": [
    "Regresión Lineal Simple: <p>\n",
    "\n",
    "A continuación a manera de ejercicio se realizara una regresión lineal simple con datos obtenidos del \"World Happiness Report\" (WHR), el cual trata de medir la felicidad en diferentes países del mundo desde el 2012 y datos de \"The world bank\", para obtener el producto interno bruto (GDP) de los países ya que es una de las variables relevantes para estimar la felicidad.<p>\n",
    "\n",
    "Los datos se pueden obtener en las páginas oficiales, sin embargo, han sido modificados para poder manipularse con mayor facilidad, si deseas consultar los datos oficiales, encontraras las referencias al final del documento. Si deseas simplemente verificar los resultados del código el archivo con los datos se encuentra en este proyecto.<p>\n"
   ]
  },
  {
   "cell_type": "markdown",
   "metadata": {},
   "source": [
    "La base de datos cuenta con la siguiente información: <p>\n",
    "-“País”. Se describe el nombre del país. <p>\n",
    "-“Felicidad”. Un número entre 0 y 10 que describe el nivel de felicidad. <p>\n",
    "-“GDP”. Un número que describe el producto interno bruto.<p><p>\n",
    "\n",
    "Iniciaremos preparando nuestro ambiente de trabajo, importando librerías y la base de datos, para familiarizarnos con ella mostraremos los primeros 10 datos de diferentes formas."
   ]
  },
  {
   "cell_type": "code",
   "execution_count": 29,
   "metadata": {},
   "outputs": [
    {
     "name": "stdout",
     "output_type": "stream",
     "text": [
      "Datos de mayor a menor GDP: \n",
      "                Pais  Felicidad           GDP\n",
      "15    United States     6.9768  2.089370e+13\n",
      "70            China     5.5853  1.468770e+13\n",
      "52            Japan     6.0389  5.040110e+12\n",
      "13          Germany     7.0341  3.846410e+12\n",
      "16   United Kingdom     6.9425  2.756900e+12\n",
      "130           India     3.7771  2.667690e+12\n",
      "19           France     6.6867  2.630320e+12\n",
      "29            Italy     6.4667  1.892570e+12\n",
      "14           Canada     7.0251  1.645420e+12\n",
      "57      South Korea     5.9351  1.637900e+12 \n",
      "\n",
      "Datos de mayor a menor Felicidad: \n",
      "           Pais  Felicidad           GDP\n",
      "0      Finland     7.8210  2.718370e+11\n",
      "1      Denmark     7.6362  3.560850e+11\n",
      "2      Iceland     7.5575  2.171808e+10\n",
      "3  Switzerland     7.5116  7.522480e+11\n",
      "4  Netherlands     7.4149  9.138650e+11\n",
      "5   Luxembourg     7.4040  7.335313e+10\n",
      "6       Sweden     7.3843  5.414870e+11\n",
      "7       Norway     7.3651  3.621980e+11\n",
      "8       Israel     7.3638  4.071010e+11\n",
      "9  New Zealand     7.1998  2.117350e+11 \n",
      "\n"
     ]
    }
   ],
   "source": [
    "#Se importa la libreria de pandas como pd\n",
    "import pandas as pd \n",
    "\n",
    "#Leemos la base de datos y la almacenamos en df\n",
    "df = pd.read_csv(\"data1_2.csv\") \n",
    "\n",
    "#Acomodamos nuestra base de datos de acuerdo a lo que queremos mostrar\n",
    "df = df.sort_values( 'GDP', ascending = False)\n",
    "\n",
    "#Mostramos los 10 primeros datos\n",
    "print (\"Datos de mayor a menor GDP: \\n\", df.head(10), \"\\n\")\n",
    "\n",
    "df = df.sort_values( 'Felicidad', ascending = False)\n",
    "print (\"Datos de mayor a menor Felicidad: \\n\", df.head(10), \"\\n\")"
   ]
  },
  {
   "cell_type": "code",
   "execution_count": 30,
   "metadata": {},
   "outputs": [
    {
     "name": "stdout",
     "output_type": "stream",
     "text": [
      "Datos de menor a mayor GDP: \n",
      "              Pais  Felicidad           GDP\n",
      "111       Comoros     4.6086  1.223876e+09\n",
      "89         Gambia     5.1636  1.830413e+09\n",
      "135       Lesotho     3.5118  2.250718e+09\n",
      "93        Liberia     5.1215  3.039983e+09\n",
      "119      Eswatini     4.3961  3.984841e+09\n",
      "134  Sierra Leone     3.5740  4.063289e+09\n",
      "73     Montenegro     5.5468  4.780722e+09\n",
      "129          Togo     4.1123  7.574637e+09\n",
      "30         Kosovo     6.4551  7.716925e+09\n",
      "62     Kyrgyzstan     5.8285  7.780875e+09 \n",
      "\n",
      "Datos de menor a mayor Felicidad: \n",
      "              Pais  Felicidad           GDP\n",
      "140   Afghanistan     2.4038  2.011614e+10\n",
      "139       Lebanon     2.9553  2.594892e+10\n",
      "138      Zimbabwe     2.9951  1.805117e+10\n",
      "137        Rwanda     3.2682  1.018435e+10\n",
      "136      Botswana     3.4711  1.493007e+10\n",
      "135       Lesotho     3.5118  2.250718e+09\n",
      "134  Sierra Leone     3.5740  4.063289e+09\n",
      "133      Tanzania     3.7024  6.240971e+10\n",
      "132        Malawi     3.7504  1.217213e+10\n",
      "131        Zambia     3.7598  1.811063e+10 \n",
      "\n"
     ]
    }
   ],
   "source": [
    "#Se utiliza otra celda de código para no sobre saturar la consola.\n",
    "df = df.sort_values( 'GDP', ascending = True)\n",
    "print (\"Datos de menor a mayor GDP: \\n\", df.head(10), \"\\n\")\n",
    "\n",
    "df = df.sort_values( 'Felicidad', ascending = True)\n",
    "print (\"Datos de menor a mayor Felicidad: \\n\", df.head(10), \"\\n\")"
   ]
  },
  {
   "cell_type": "code",
   "execution_count": 31,
   "metadata": {},
   "outputs": [],
   "source": [
    "#Importamos la libreria de numpy\n",
    "import numpy as np\n",
    "\n",
    "#Definimos a \"y\" como los valores de felicidad\n",
    "y = df[\"Felicidad\"]\n",
    "\n",
    "#Definimos a \"x\" como el logaritmo base 10 del valor del GDP, para obtener datos más legibles usando numpy\n",
    "x = np.log10(df[\"GDP\"])"
   ]
  },
  {
   "cell_type": "markdown",
   "metadata": {},
   "source": [
    "Se realiza a grafica que compara el nivel de felicidad indicado como variable dependiente del GDP, la variable independiente."
   ]
  },
  {
   "cell_type": "code",
   "execution_count": 32,
   "metadata": {},
   "outputs": [
    {
     "data": {
      "image/png": "[encoded data removed]",
      "text/plain": [
       "<Figure size 640x480 with 1 Axes>"
      ]
     },
     "metadata": {},
     "output_type": "display_data"
    }
   ],
   "source": [
    "# Esta funcion nos ayuda a que todo se vea bien en jupyter notebook\n",
    "%matplotlib inline\n",
    "# Importa la librería matplotlib.pyplot, usando plt como sinónimo\n",
    "import matplotlib.pyplot as plt\n",
    "# Usa la función scatter para generar una gráfica de dispersión\n",
    "plt.scatter(x,y)\n",
    "# Etiqueta el eje y\"\n",
    "plt.ylabel(\"Nivel de felicidad en una escala del 1-10\")\n",
    "# Etiqueta el eje x\"\n",
    "plt.xlabel(\"Logarimto base 10 del GDP\")\n",
    "# Muestra la gráfica usando la función show\n",
    "plt.show()"
   ]
  },
  {
   "cell_type": "markdown",
   "metadata": {},
   "source": [
    "Se calculan los valores de $\\beta0$ y $\\beta1$ de la siguiente ecuación: <p>\n",
    "\n",
    "$\\hat{y}$ = $\\beta0$ + $\\beta1X$\n",
    "\n"
   ]
  },
  {
   "cell_type": "code",
   "execution_count": 33,
   "metadata": {},
   "outputs": [
    {
     "name": "stdout",
     "output_type": "stream",
     "text": [
      "Coeficientes obtenidos: \n",
      "B0 =  -1.3023500570747277\n",
      "B1 =  0.6281284658810408\n"
     ]
    }
   ],
   "source": [
    "#Calculamos el promedio de X\n",
    "xBar = np.mean(x)\n",
    "\n",
    "#Calculamos el promedio de y\n",
    "yBar = np.mean(y)\n",
    "\n",
    "#Es el numerador de B1 para evitar errores\n",
    "B1num = sum((x-xBar)*(y-yBar))\n",
    "\n",
    "#Es el denominador de B1 para evitar errores\n",
    "B1den = sum((x-xBar)**2)\n",
    "\n",
    "# Calcula B1 como la proporción entre el numerador y el denominador\n",
    "B1 = B1num/B1den\n",
    "\n",
    "# Calcula B0\n",
    "B0 = yBar-(B1*xBar)\n",
    "\n",
    "# Imprime el valor de B0\n",
    "print (\"Coeficientes obtenidos: \")\n",
    "print(\"B0 = \", B0 )\n",
    "\n",
    "# Imprime el valor de B1\n",
    "print(\"B1 = \", B1)"
   ]
  },
  {
   "cell_type": "markdown",
   "metadata": {},
   "source": [
    "Se realiza la gráfica y se muestra el resultado de la ecuación cuyos coeficientes acabamos de obtener. "
   ]
  },
  {
   "cell_type": "code",
   "execution_count": 34,
   "metadata": {},
   "outputs": [
    {
     "data": {
      "image/png": "[encoded data removed]",
      "text/plain": [
       "<Figure size 640x480 with 1 Axes>"
      ]
     },
     "metadata": {},
     "output_type": "display_data"
    }
   ],
   "source": [
    "# Código para replicar la gráfica anterior\n",
    "plt.scatter(x,y, alpha=0.75)\n",
    "plt.ylabel(\"Nivel de felicidad en una escala del 1-10\")\n",
    "plt.xlabel(\"Logarimto base 10 del GDP\")\n",
    "\n",
    "\n",
    "# Estimación dada nuestra ecuación\n",
    "yHat = B0 + B1*x\n",
    "# Agrega la línea que representa al modelo con la función plot\n",
    "plt.plot(x,yHat, c= \"r\", linewidth = \"3\", alpha = 0.75)\n",
    "# Muestra la gráfica usando la función show\n",
    "plt.show()"
   ]
  },
  {
   "cell_type": "code",
   "execution_count": 35,
   "metadata": {},
   "outputs": [
    {
     "name": "stdout",
     "output_type": "stream",
     "text": [
      "RSS = 131.3738317732635\n"
     ]
    }
   ],
   "source": [
    "#Se realiza el calculo del RSS\n",
    "RSS = sum((y-yHat)**2)\n",
    "# Imprime el valor de RSS\n",
    "print(\"RSS =\", RSS)"
   ]
  },
  {
   "cell_type": "markdown",
   "metadata": {},
   "source": [
    "Se calcula el error estándar (SE) de $\\beta1$, el cual es de utilidad para juzgar la confianza de $\\beta1$ y será crucial para encontrar su intervalo de confianza."
   ]
  },
  {
   "cell_type": "code",
   "execution_count": 36,
   "metadata": {},
   "outputs": [
    {
     "name": "stdout",
     "output_type": "stream",
     "text": [
      "SEB1 = 0.09983378435340727\n"
     ]
    }
   ],
   "source": [
    "# Se obtiene el numero de muestras\n",
    "n = len(x)\n",
    "# Se calcula el error estándar\n",
    "SEB1 = np.sqrt(RSS/((n-2)*sum((x-xBar)**2)))\n",
    "# Imprime el valor de SEB1\n",
    "print( \"SEB1 =\", SEB1)"
   ]
  },
  {
   "cell_type": "markdown",
   "metadata": {},
   "source": [
    "Ahora se calcula el intervalo de confianza de $\\beta1$ haciendo uso del error estándar de dicha variable."
   ]
  },
  {
   "cell_type": "code",
   "execution_count": 37,
   "metadata": {},
   "outputs": [
    {
     "name": "stdout",
     "output_type": "stream",
     "text": [
      "Intervalos de confianza: \n",
      "CIlow = 0.4307393313073311  CIhighc= 0.8255176004547504\n"
     ]
    }
   ],
   "source": [
    "# Importa la librería scipy.stats con sinónimo st\n",
    "import scipy.stats as st\n",
    "# Calcula el percentil con \"t.interval\"\n",
    "per = st.t.interval(0.95, n-2)[1]\n",
    "# Calcula el límite inferior\n",
    "CIlow = B1 - per*SEB1\n",
    "# Calcula el límite superios\n",
    "CIhigh = B1 + per*SEB1\n",
    "# Imprime el intervalo de confianza\n",
    "print( \"Intervalos de confianza: \\nCIlow =\", CIlow, \" CIhighc=\", CIhigh)"
   ]
  },
  {
   "cell_type": "markdown",
   "metadata": {},
   "source": [
    "Podemos decir con un 95% de seguridad que por cada aumento unitario en el logaritmo base 10 del GDP la felicidad aumenta entre 0.4307 y 0.8255 puntos.<p>\n",
    "\n",
    "Ahora se determinará si existe alguna asociación entre la felicidad y el logaritmo base 10 del GDP, para esto realizaremos una prueba de hipótesis:<p>\n",
    "Hipótesis nula (H0): $\\beta1$ = 0 <p>\n",
    "Hipótesis alternativa (H1): $\\beta1$ $\\neq$ 0 <p>\n",
    "\n",
    "Para poder determinar esto debemos de obtener el estadístico t, para posteriormente obtener el valor de p, para una función t de student con n-2 grados de libertad. <p>\n",
    "Una vez tengamos estos valores vamos a comparar el valor p con el de alpha en este caso de 0.05, lo que implica que tiene una certeza del 95%, si el valor de p es menor podemos decir que se rechaza la hipótesis nula y podemos presumir que si existe una relación entre la felicidad y el GDP.  \n"
   ]
  },
  {
   "cell_type": "code",
   "execution_count": 38,
   "metadata": {},
   "outputs": [
    {
     "name": "stdout",
     "output_type": "stream",
     "text": [
      "Valor de t-statisic= 6.291742519320846\n",
      "Valor de p-value= 3.825717831968765e-09 \n",
      "\n",
      "Se rechaza la hipótesis nula, se tiene una confianza del 95% de que existe una relación entre la felicidad y el GDP\n"
     ]
    }
   ],
   "source": [
    "# Calcula el estadístico t\n",
    "t = B1 / SEB1\n",
    "# Calcula el p-value asociado\n",
    "p = st.t.sf(abs(t),n-2)*2\n",
    "# Muestra en consola el resultado del estadístico t\n",
    "print ( \"Valor de t-statisic=\",t)\n",
    "# Muestra en consola el resultado del p-value\n",
    "print (\"Valor de p-value=\",p, \"\\n\")\n",
    "\n",
    "if p<0.05:\n",
    "    print(\"Se rechaza la hipótesis nula, se tiene una confianza del 95% de que existe una relación entre la felicidad y el GDP\")\n",
    "else:\n",
    "    print(\"No se rechaza la hipótesis nula, puede no existir relación entre la felicidad y el GDP\")"
   ]
  },
  {
   "cell_type": "markdown",
   "metadata": {},
   "source": [
    "A continuación, se calcula el RSE (Residual standar error) el cual estima la desviación estándar de error.\n",
    "y el R^2, la cual nos indica que proporción del comportamiento de \"y\", el índice de felicidad se explica por x, el logaritmo base 10 del GDP. "
   ]
  },
  {
   "cell_type": "code",
   "execution_count": 39,
   "metadata": {},
   "outputs": [
    {
     "name": "stdout",
     "output_type": "stream",
     "text": [
      "Valor de RSE = 0.9721807858537376\n",
      "Valor de R^2 = 0.22166361654970657\n",
      "\n",
      "Mi opinión sobre el resultado de R^2\n",
      "Parece ser que la variable dependiente está muy poco representada por la variable independiente,\n",
      "aún así, encontramos que se rechaza la hipótesis nula con el 95% de confianza, por lo cual concluyo que si existe una relación relevante entre las variables\n",
      "pero que pueden existir mejores modelos para utilizar con fines predictivos, para fines estadísticos este modelo es ideal por su interpretabilidad\n"
     ]
    }
   ],
   "source": [
    "# Calculo del RSE\n",
    "RSE = np.sqrt(RSS/(n-2))\n",
    "# Calculo del TSS\n",
    "TSS = sum((y-yBar)**2)\n",
    "# Calculo de R^2\n",
    "R2 = 1-RSS/TSS\n",
    "# Imprime el valor del RSE\n",
    "print (\"Valor de RSE =\",RSE)\n",
    "# Imprime el valor de R^2\n",
    "print ( \"Valor de R^2 =\", R2)\n",
    "\n",
    "print(\"\\nMi opinión sobre el resultado de R^2\")\n",
    "print(\"Parece ser que la variable dependiente está muy poco representada por la variable independiente,\")\n",
    "print(\"aún así, encontramos que se rechaza la hipótesis nula con el 95% de confianza, por lo cual concluyo que si existe una relación relevante entre las variables\")\n",
    "print(\"pero que pueden existir mejores modelos para utilizar con fines predictivos, para fines estadísticos este modelo es ideal por su interpretabilidad\")\n"
   ]
  },
  {
   "cell_type": "markdown",
   "metadata": {},
   "source": [
    "Ahora comprobaremos los resultados de los cálculos anteriores haciendo uso de librerías especializadas."
   ]
  },
  {
   "cell_type": "code",
   "execution_count": 40,
   "metadata": {},
   "outputs": [
    {
     "name": "stdout",
     "output_type": "stream",
     "text": [
      "                            OLS Regression Results                            \n",
      "==============================================================================\n",
      "Dep. Variable:              Felicidad   R-squared:                       0.222\n",
      "Model:                            OLS   Adj. R-squared:                  0.216\n",
      "Method:                 Least Squares   F-statistic:                     39.59\n",
      "Date:                Mon, 27 Jan 2025   Prob (F-statistic):           3.83e-09\n",
      "Time:                        00:20:46   Log-Likelihood:                -195.09\n",
      "No. Observations:                 141   AIC:                             394.2\n",
      "Df Residuals:                     139   BIC:                             400.1\n",
      "Df Model:                           1                                         \n",
      "Covariance Type:            nonrobust                                         \n",
      "==============================================================================\n",
      "                 coef    std err          t      P>|t|      [0.025      0.975]\n",
      "------------------------------------------------------------------------------\n",
      "const         -1.3024      1.094     -1.191      0.236      -3.465       0.860\n",
      "GDP            0.6281      0.100      6.292      0.000       0.431       0.826\n",
      "==============================================================================\n",
      "Omnibus:                        2.648   Durbin-Watson:                   0.455\n",
      "Prob(Omnibus):                  0.266   Jarque-Bera (JB):                2.523\n",
      "Skew:                          -0.326   Prob(JB):                        0.283\n",
      "Kurtosis:                       2.944   Cond. No.                         148.\n",
      "==============================================================================\n",
      "\n",
      "Notes:\n",
      "[1] Standard Errors assume that the covariance matrix of the errors is correctly specified.\n"
     ]
    }
   ],
   "source": [
    "# Importa la librería statsmodels.api con el sinónimo sm\n",
    "import statsmodels.api as sm\n",
    "# Genera un ordinary least squares, recuerda usar la función add_constant()\n",
    "model = sm.OLS(y,sm.add_constant(x))\n",
    "# Ajusta el modelo\n",
    "results = model.fit()\n",
    "# Imprime el resultado de aplicar la función summary() a la variable results\n",
    "print(results.summary())"
   ]
  },
  {
   "cell_type": "markdown",
   "metadata": {},
   "source": [
    "Podemos observar que los datos obtenidos anteriormente concuerdan con los datos de la función, por lo cual concluyo que los procedimientos realizados fueron adecuados. Adelante verificaremos valores que no aparecen en el sumario."
   ]
  },
  {
   "cell_type": "code",
   "execution_count": 41,
   "metadata": {},
   "outputs": [
    {
     "name": "stdout",
     "output_type": "stream",
     "text": [
      "\n",
      "p-values: \n",
      "const    2.357975e-01\n",
      "GDP      3.825718e-09\n",
      "dtype: float64\n",
      "\n",
      "RSE = 0.9721807858537376\n"
     ]
    }
   ],
   "source": [
    "print(\"\\np-values: \")\n",
    "\n",
    "#Imprime más cifras de los p-values\n",
    "print(results.pvalues)\n",
    "\n",
    "#Imprime el RSE, ya que no se muestra por default en el sumario\n",
    "print(\"\\nRSE =\", results.scale**.5)"
   ]
  },
  {
   "cell_type": "markdown",
   "metadata": {},
   "source": [
    "Podemos darnos cuenta de que los valores del RSE y el p-value de $\\beta1$​ son los mismos que los que calculamos originalmente.<p>\n",
    "Observamos que no se rechaza la hipótesis nula del p-value de $\\beta0$​, lo cual sugiere que no hay una relación significativa entre las variables \"x\" (logaritmo del PIB) y \"y\" (nivel de felicidad) en términos del valor de la constante. Esto tiene sentido, ya que el intercepto representa el valor de la felicidad cuando el logaritmo del PIB es cero (es decir, cuando el PIB es 1), lo cual puede no ser relevante en el contexto de los datos y el modelo.<p>\n",
    "\n",
    "Recapitulando los resultados obtenidos se da por finalizado este ejercicio:"
   ]
  },
  {
   "cell_type": "code",
   "execution_count": 42,
   "metadata": {},
   "outputs": [
    {
     "name": "stdout",
     "output_type": "stream",
     "text": [
      "B1 = 0.6281284658810408\n",
      "B0 = -1.3023500570747277\n",
      "RSE = 0.9721807858537376\n",
      "R^2 = 0.22166361654970657\n"
     ]
    }
   ],
   "source": [
    "print(\"B1 =\", B1)\n",
    "print(\"B0 =\", B0)\n",
    "print(\"RSE =\", RSE)\n",
    "print(\"R^2 =\", R2)"
   ]
  },
  {
   "cell_type": "markdown",
   "metadata": {},
   "source": [
    "Podemos decir con un 95% de seguridad de que por cada aumento unitario en el logaritmo base 10 del GDP la felicidad aumenta entre 0.4307 y 0.8255 puntos.<p>\n",
    "\n",
    "Agradezco al lector por su tiempo: <p>\n",
    "-Armando Rdz"
   ]
  },
  {
   "cell_type": "markdown",
   "metadata": {},
   "source": [
    "Referencias:"
   ]
  },
  {
   "cell_type": "markdown",
   "metadata": {},
   "source": [
    "Datos sobre la felicidad (WHR):<p>\n",
    "https://worldhappiness.report/ed/2022/#appendices-and-data <p>\n",
    "\n",
    "Datos sobre el GDP (The world bank): <p>\n",
    "https://data.worldbank.org/indicator/NY.GDP.MKTP.CD <p>"
   ]
  }
 ],
 "metadata": {
  "kernelspec": {
   "display_name": "base",
   "language": "python",
   "name": "python3"
  },
  "language_info": {
   "codemirror_mode": {
    "name": "ipython",
    "version": 3
   },
   "file_extension": ".py",
   "mimetype": "text/x-python",
   "name": "python",
   "nbconvert_exporter": "python",
   "pygments_lexer": "ipython3",
   "version": "3.12.7"
  }
 },
 "nbformat": 4,
 "nbformat_minor": 2
}
